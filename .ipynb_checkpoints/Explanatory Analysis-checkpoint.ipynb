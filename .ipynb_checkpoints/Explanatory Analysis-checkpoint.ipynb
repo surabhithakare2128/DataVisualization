{
 "cells": [
  {
   "cell_type": "markdown",
   "metadata": {},
   "source": [
    "When you show your findings make sure you tell a story"
   ]
  },
  {
   "cell_type": "markdown",
   "metadata": {},
   "source": [
    "# Powerful Presentation\n",
    "\n",
    "1. Start with a question. \n",
    "\n",
    "2. Engage audience with supplementary visuals\n",
    "\n",
    "3. Repeat the question so audience don't forget it (Repetition is a Good Thing)\n",
    "\n",
    "4. Highlight the answes by providing necessary data\n",
    "\n",
    "5. conclude by calling audience to action"
   ]
  },
  {
   "cell_type": "markdown",
   "metadata": {},
   "source": [
    "# Polishing Plots \n",
    "\n",
    "1. Appropriate plot type\n",
    "2. Appropriate data encodings\n",
    "3. Labeled Axes\n",
    "4. Resonable tick marks \n",
    "5. Descriptive legends and title\n",
    "6. Accompany with additional comments and text for better understing of data to audiences"
   ]
  },
  {
   "cell_type": "code",
   "execution_count": null,
   "metadata": {},
   "outputs": [],
   "source": []
  }
 ],
 "metadata": {
  "kernelspec": {
   "display_name": "Python [default]",
   "language": "python",
   "name": "python3"
  },
  "language_info": {
   "codemirror_mode": {
    "name": "ipython",
    "version": 3
   },
   "file_extension": ".py",
   "mimetype": "text/x-python",
   "name": "python",
   "nbconvert_exporter": "python",
   "pygments_lexer": "ipython3",
   "version": "3.6.4"
  }
 },
 "nbformat": 4,
 "nbformat_minor": 2
}
